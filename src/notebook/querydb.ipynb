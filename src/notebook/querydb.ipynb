{
 "cells": [
  {
   "cell_type": "code",
   "execution_count": 2,
   "metadata": {},
   "outputs": [
    {
     "name": "stdout",
     "output_type": "stream",
     "text": [
      "   company_name  total_gross_profit\n",
      "0       南方大集东西湖          1016312.88\n",
      "1          国贸集团           797817.78\n",
      "2        国贸农产武汉           624188.33\n",
      "3        南方大集能源           578423.60\n",
      "4        南方大集江汉           566785.79\n",
      "5         国贸金属矿           499661.46\n",
      "6         国贸供应链           481552.66\n",
      "7        国贸汽车红安           466405.46\n",
      "8        南方大集慈惠           454137.39\n",
      "9          国贸能化           447209.85\n",
      "10        国贸农产品           424180.28\n",
      "11         南方工贸           369609.69\n",
      "12          鼎联丰           335662.71\n",
      "13         国贸汽车           211923.67\n",
      "14         华中能源           160197.38\n",
      "15         南方集团            87791.80\n",
      "16         南方大集          -316989.62\n"
     ]
    }
   ],
   "source": [
    "import pandas as pd\n",
    "import sqlite3\n",
    "\n",
    "# 连接到SQLite数据库\n",
    "conn = sqlite3.connect('mydatabase.db')\n",
    "\n",
    "# 定义SQL查询\n",
    "query = \"SELECT * FROM sales_purchase\"\n",
    "query_test = \"SELECT company_name, SUM(gross_profit) AS total_gross_profit FROM sales_purchase GROUP BY company_name ORDER BY total_gross_profit DESC\"\n",
    "\n",
    "# 使用Pandas读取数据\n",
    "df = pd.read_sql_query(query_test, conn)\n",
    "\n",
    "# 显示DataFrame\n",
    "print(df)\n",
    "\n",
    "# 关闭数据库连接\n",
    "conn.close()"
   ]
  },
  {
   "cell_type": "code",
   "execution_count": 3,
   "metadata": {},
   "outputs": [
    {
     "name": "stdout",
     "output_type": "stream",
     "text": [
      "SELECT company_name, SUM(sales_amount) AS total_sales FROM sales_purchase WHERE YEAR(sales_settlement_date) = YEAR(CURDATE()) AND MONTH(sales_settlement_date) BETWEEN 1 AND 6 GROUP BY company_name;\n"
     ]
    }
   ],
   "source": [
    "def prepare_sql_query(sql_query):\n",
    "    \"\"\"\n",
    "    清理并准备SQL查询字符串。\n",
    "    \n",
    "    参数:\n",
    "    sql_query (str): 原始的多行SQL查询字符串。\n",
    "    \n",
    "    返回:\n",
    "    str: 清理后的单行SQL查询字符串。\n",
    "    \"\"\"\n",
    "    # 去除字符串两端的空白字符\n",
    "    sql_query = sql_query.strip()\n",
    "    # 替换字符串中的换行符和多余的空格\n",
    "    sql_query = ' '.join(sql_query.split())\n",
    "    return sql_query\n",
    "\n",
    "# 原始的多行SQL查询字符串\n",
    "raw_sql = \"\"\"\n",
    "\\nSELECT company_name, SUM(sales_amount) AS total_sales\n",
    "FROM sales_purchase\n",
    "WHERE YEAR(sales_settlement_date) = YEAR(CURDATE()) AND MONTH(sales_settlement_date) BETWEEN 1 AND 6\n",
    "GROUP BY company_name;\n",
    "\"\"\"\n",
    "\n",
    "# 调用函数处理SQL查询\n",
    "clean_sql = prepare_sql_query(raw_sql)\n",
    "\n",
    "# 打印处理后的SQL查询\n",
    "print(clean_sql)"
   ]
  },
  {
   "cell_type": "code",
   "execution_count": null,
   "metadata": {},
   "outputs": [],
   "source": []
  }
 ],
 "metadata": {
  "kernelspec": {
   "display_name": "agently",
   "language": "python",
   "name": "python3"
  },
  "language_info": {
   "codemirror_mode": {
    "name": "ipython",
    "version": 3
   },
   "file_extension": ".py",
   "mimetype": "text/x-python",
   "name": "python",
   "nbconvert_exporter": "python",
   "pygments_lexer": "ipython3",
   "version": "3.12.5"
  }
 },
 "nbformat": 4,
 "nbformat_minor": 2
}
